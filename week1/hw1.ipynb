{
 "cells": [
  {
   "cell_type": "code",
   "execution_count": 1,
   "id": "f1e2a3a6-64ec-4173-814e-6e229a62648a",
   "metadata": {},
   "outputs": [],
   "source": [
    "import pandas as pd\n",
    "import seaborn as sns\n",
    "import numpy as np\n",
    "\n",
    "import pickle\n",
    "\n",
    "from sklearn.feature_extraction import DictVectorizer\n",
    "from sklearn.linear_model import LinearRegression\n",
    "from sklearn.linear_model import Lasso\n",
    "from sklearn.linear_model import Ridge\n",
    "from sklearn.metrics import mean_squared_error"
   ]
  },
  {
   "cell_type": "code",
   "execution_count": 3,
   "id": "3741360a-7ad9-4ae4-8a28-c23f2dd69290",
   "metadata": {},
   "outputs": [],
   "source": [
    "#Please download data and change the path\n",
    "data_jan = pd.read_parquet(\"data/fhv_tripdata_2021-01.parquet\")\n",
    "data_feb = pd.read_parquet(\"data/fhv_tripdata_2021-02.parquet\")"
   ]
  },
  {
   "cell_type": "code",
   "execution_count": 3,
   "id": "b04ea7ef-0cb5-4b47-9b46-53a434c9efbb",
   "metadata": {},
   "outputs": [
    {
     "data": {
      "text/plain": [
       "0         2021-01-01 00:44:00\n",
       "1         2021-01-01 01:07:00\n",
       "2         2021-01-01 01:51:00\n",
       "3         2021-01-01 00:21:26\n",
       "4         2021-01-01 00:53:44\n",
       "                  ...        \n",
       "1154107   2021-01-31 23:51:48\n",
       "1154108   2021-02-01 00:48:03\n",
       "1154109   2021-01-31 23:29:58\n",
       "1154110   2021-02-01 00:17:29\n",
       "1154111   2021-02-01 00:15:00\n",
       "Name: dropOff_datetime, Length: 1154112, dtype: datetime64[ns]"
      ]
     },
     "execution_count": 3,
     "metadata": {},
     "output_type": "execute_result"
    }
   ],
   "source": [
    "data_jan.dropOff_datetime"
   ]
  },
  {
   "cell_type": "markdown",
   "id": "fb6153c2-d06f-4ae3-ace0-6e13b779f861",
   "metadata": {},
   "source": [
    "Q1 : 1154112"
   ]
  },
  {
   "cell_type": "code",
   "execution_count": 46,
   "id": "f0e790f9",
   "metadata": {},
   "outputs": [],
   "source": [
    "data_jan_used = data_jan.copy() # data_jan.loc[data_jan.trip_type == 2].copy()"
   ]
  },
  {
   "cell_type": "code",
   "execution_count": 47,
   "id": "bbe8cc06",
   "metadata": {},
   "outputs": [],
   "source": [
    "data_jan_used['time'] = data_jan_used.dropOff_datetime - data_jan_used.pickup_datetime\n",
    "data_jan_used['time_minutes'] = data_jan_used.time.dt.total_seconds() / 60"
   ]
  },
  {
   "cell_type": "code",
   "execution_count": 48,
   "id": "c3ae5304",
   "metadata": {},
   "outputs": [],
   "source": [
    "data_jan_used.drop(data_jan_used.columns.difference(['time_minutes','PUlocationID','DOlocationID']), axis=1, inplace=True)"
   ]
  },
  {
   "cell_type": "code",
   "execution_count": 49,
   "id": "f87839f0",
   "metadata": {},
   "outputs": [
    {
     "data": {
      "text/html": [
       "<div>\n",
       "<style scoped>\n",
       "    .dataframe tbody tr th:only-of-type {\n",
       "        vertical-align: middle;\n",
       "    }\n",
       "\n",
       "    .dataframe tbody tr th {\n",
       "        vertical-align: top;\n",
       "    }\n",
       "\n",
       "    .dataframe thead th {\n",
       "        text-align: right;\n",
       "    }\n",
       "</style>\n",
       "<table border=\"1\" class=\"dataframe\">\n",
       "  <thead>\n",
       "    <tr style=\"text-align: right;\">\n",
       "      <th></th>\n",
       "      <th>PUlocationID</th>\n",
       "      <th>DOlocationID</th>\n",
       "      <th>time_minutes</th>\n",
       "    </tr>\n",
       "  </thead>\n",
       "  <tbody>\n",
       "    <tr>\n",
       "      <th>0</th>\n",
       "      <td>NaN</td>\n",
       "      <td>NaN</td>\n",
       "      <td>17.000000</td>\n",
       "    </tr>\n",
       "    <tr>\n",
       "      <th>1</th>\n",
       "      <td>NaN</td>\n",
       "      <td>NaN</td>\n",
       "      <td>17.000000</td>\n",
       "    </tr>\n",
       "    <tr>\n",
       "      <th>2</th>\n",
       "      <td>NaN</td>\n",
       "      <td>NaN</td>\n",
       "      <td>110.000000</td>\n",
       "    </tr>\n",
       "    <tr>\n",
       "      <th>3</th>\n",
       "      <td>NaN</td>\n",
       "      <td>72.0</td>\n",
       "      <td>8.283333</td>\n",
       "    </tr>\n",
       "    <tr>\n",
       "      <th>4</th>\n",
       "      <td>NaN</td>\n",
       "      <td>61.0</td>\n",
       "      <td>15.216667</td>\n",
       "    </tr>\n",
       "    <tr>\n",
       "      <th>...</th>\n",
       "      <td>...</td>\n",
       "      <td>...</td>\n",
       "      <td>...</td>\n",
       "    </tr>\n",
       "    <tr>\n",
       "      <th>1154107</th>\n",
       "      <td>7.0</td>\n",
       "      <td>7.0</td>\n",
       "      <td>8.750000</td>\n",
       "    </tr>\n",
       "    <tr>\n",
       "      <th>1154108</th>\n",
       "      <td>44.0</td>\n",
       "      <td>91.0</td>\n",
       "      <td>57.600000</td>\n",
       "    </tr>\n",
       "    <tr>\n",
       "      <th>1154109</th>\n",
       "      <td>171.0</td>\n",
       "      <td>171.0</td>\n",
       "      <td>16.200000</td>\n",
       "    </tr>\n",
       "    <tr>\n",
       "      <th>1154110</th>\n",
       "      <td>15.0</td>\n",
       "      <td>15.0</td>\n",
       "      <td>19.433333</td>\n",
       "    </tr>\n",
       "    <tr>\n",
       "      <th>1154111</th>\n",
       "      <td>NaN</td>\n",
       "      <td>NaN</td>\n",
       "      <td>36.000000</td>\n",
       "    </tr>\n",
       "  </tbody>\n",
       "</table>\n",
       "<p>1154112 rows × 3 columns</p>\n",
       "</div>"
      ],
      "text/plain": [
       "         PUlocationID  DOlocationID  time_minutes\n",
       "0                 NaN           NaN     17.000000\n",
       "1                 NaN           NaN     17.000000\n",
       "2                 NaN           NaN    110.000000\n",
       "3                 NaN          72.0      8.283333\n",
       "4                 NaN          61.0     15.216667\n",
       "...               ...           ...           ...\n",
       "1154107           7.0           7.0      8.750000\n",
       "1154108          44.0          91.0     57.600000\n",
       "1154109         171.0         171.0     16.200000\n",
       "1154110          15.0          15.0     19.433333\n",
       "1154111           NaN           NaN     36.000000\n",
       "\n",
       "[1154112 rows x 3 columns]"
      ]
     },
     "execution_count": 49,
     "metadata": {},
     "output_type": "execute_result"
    }
   ],
   "source": [
    "data_jan_used"
   ]
  },
  {
   "cell_type": "code",
   "execution_count": 50,
   "id": "5f4ccd6d",
   "metadata": {},
   "outputs": [
    {
     "data": {
      "text/plain": [
       "count    1.154112e+06\n",
       "mean     1.916722e+01\n",
       "std      3.986922e+02\n",
       "min      1.666667e-02\n",
       "50%      1.340000e+01\n",
       "95%      4.725000e+01\n",
       "98%      6.613333e+01\n",
       "99%      9.030000e+01\n",
       "max      4.233710e+05\n",
       "Name: time_minutes, dtype: float64"
      ]
     },
     "execution_count": 50,
     "metadata": {},
     "output_type": "execute_result"
    }
   ],
   "source": [
    "data_jan_used.time_minutes.describe(percentiles=[0.95,0.98,0.99])"
   ]
  },
  {
   "cell_type": "markdown",
   "id": "8ec40a83-531d-49eb-8362-8a929b773731",
   "metadata": {},
   "source": [
    "Q2: 19.16"
   ]
  },
  {
   "cell_type": "code",
   "execution_count": 51,
   "id": "b8604738-4ed8-4293-9c2a-8a77a7f79ddc",
   "metadata": {},
   "outputs": [
    {
     "data": {
      "text/plain": [
       "PUlocationID    0.830307\n",
       "DOlocationID    0.140558\n",
       "time_minutes    0.000000\n",
       "dtype: float64"
      ]
     },
     "execution_count": 51,
     "metadata": {},
     "output_type": "execute_result"
    }
   ],
   "source": [
    "data_jan_used.isnull().sum()/len(data_jan_used)"
   ]
  },
  {
   "cell_type": "code",
   "execution_count": 52,
   "id": "31c7f4ab-b316-4493-805d-626d50d5342e",
   "metadata": {},
   "outputs": [],
   "source": [
    "data_jan_used.fillna(-1, inplace=True)"
   ]
  },
  {
   "cell_type": "markdown",
   "id": "7bfdcbb0-9e78-4d9b-bd81-9f8e9c1ae917",
   "metadata": {},
   "source": [
    "Q3: 0.83"
   ]
  },
  {
   "cell_type": "code",
   "execution_count": 53,
   "id": "076e1c06",
   "metadata": {},
   "outputs": [],
   "source": [
    "data_jan_used = data_jan_used.loc[data_jan_used.time_minutes >= 1].loc[data_jan_used.time_minutes <= 60]"
   ]
  },
  {
   "cell_type": "code",
   "execution_count": 54,
   "id": "4b928c24",
   "metadata": {},
   "outputs": [
    {
     "data": {
      "text/html": [
       "<div>\n",
       "<style scoped>\n",
       "    .dataframe tbody tr th:only-of-type {\n",
       "        vertical-align: middle;\n",
       "    }\n",
       "\n",
       "    .dataframe tbody tr th {\n",
       "        vertical-align: top;\n",
       "    }\n",
       "\n",
       "    .dataframe thead th {\n",
       "        text-align: right;\n",
       "    }\n",
       "</style>\n",
       "<table border=\"1\" class=\"dataframe\">\n",
       "  <thead>\n",
       "    <tr style=\"text-align: right;\">\n",
       "      <th></th>\n",
       "      <th>PUlocationID</th>\n",
       "      <th>DOlocationID</th>\n",
       "      <th>time_minutes</th>\n",
       "    </tr>\n",
       "  </thead>\n",
       "  <tbody>\n",
       "    <tr>\n",
       "      <th>0</th>\n",
       "      <td>-1.0</td>\n",
       "      <td>-1.0</td>\n",
       "      <td>17.000000</td>\n",
       "    </tr>\n",
       "    <tr>\n",
       "      <th>1</th>\n",
       "      <td>-1.0</td>\n",
       "      <td>-1.0</td>\n",
       "      <td>17.000000</td>\n",
       "    </tr>\n",
       "    <tr>\n",
       "      <th>3</th>\n",
       "      <td>-1.0</td>\n",
       "      <td>72.0</td>\n",
       "      <td>8.283333</td>\n",
       "    </tr>\n",
       "    <tr>\n",
       "      <th>4</th>\n",
       "      <td>-1.0</td>\n",
       "      <td>61.0</td>\n",
       "      <td>15.216667</td>\n",
       "    </tr>\n",
       "    <tr>\n",
       "      <th>5</th>\n",
       "      <td>-1.0</td>\n",
       "      <td>71.0</td>\n",
       "      <td>9.050000</td>\n",
       "    </tr>\n",
       "    <tr>\n",
       "      <th>...</th>\n",
       "      <td>...</td>\n",
       "      <td>...</td>\n",
       "      <td>...</td>\n",
       "    </tr>\n",
       "    <tr>\n",
       "      <th>1154107</th>\n",
       "      <td>7.0</td>\n",
       "      <td>7.0</td>\n",
       "      <td>8.750000</td>\n",
       "    </tr>\n",
       "    <tr>\n",
       "      <th>1154108</th>\n",
       "      <td>44.0</td>\n",
       "      <td>91.0</td>\n",
       "      <td>57.600000</td>\n",
       "    </tr>\n",
       "    <tr>\n",
       "      <th>1154109</th>\n",
       "      <td>171.0</td>\n",
       "      <td>171.0</td>\n",
       "      <td>16.200000</td>\n",
       "    </tr>\n",
       "    <tr>\n",
       "      <th>1154110</th>\n",
       "      <td>15.0</td>\n",
       "      <td>15.0</td>\n",
       "      <td>19.433333</td>\n",
       "    </tr>\n",
       "    <tr>\n",
       "      <th>1154111</th>\n",
       "      <td>-1.0</td>\n",
       "      <td>-1.0</td>\n",
       "      <td>36.000000</td>\n",
       "    </tr>\n",
       "  </tbody>\n",
       "</table>\n",
       "<p>1109826 rows × 3 columns</p>\n",
       "</div>"
      ],
      "text/plain": [
       "         PUlocationID  DOlocationID  time_minutes\n",
       "0                -1.0          -1.0     17.000000\n",
       "1                -1.0          -1.0     17.000000\n",
       "3                -1.0          72.0      8.283333\n",
       "4                -1.0          61.0     15.216667\n",
       "5                -1.0          71.0      9.050000\n",
       "...               ...           ...           ...\n",
       "1154107           7.0           7.0      8.750000\n",
       "1154108          44.0          91.0     57.600000\n",
       "1154109         171.0         171.0     16.200000\n",
       "1154110          15.0          15.0     19.433333\n",
       "1154111          -1.0          -1.0     36.000000\n",
       "\n",
       "[1109826 rows x 3 columns]"
      ]
     },
     "execution_count": 54,
     "metadata": {},
     "output_type": "execute_result"
    }
   ],
   "source": [
    "data_jan_used"
   ]
  },
  {
   "cell_type": "code",
   "execution_count": 55,
   "id": "7698a142",
   "metadata": {},
   "outputs": [],
   "source": [
    "categorical = ['PUlocationID','DOlocationID']\n",
    "numerical =[]"
   ]
  },
  {
   "cell_type": "code",
   "execution_count": 56,
   "id": "37b06201",
   "metadata": {},
   "outputs": [
    {
     "data": {
      "text/html": [
       "<div>\n",
       "<style scoped>\n",
       "    .dataframe tbody tr th:only-of-type {\n",
       "        vertical-align: middle;\n",
       "    }\n",
       "\n",
       "    .dataframe tbody tr th {\n",
       "        vertical-align: top;\n",
       "    }\n",
       "\n",
       "    .dataframe thead th {\n",
       "        text-align: right;\n",
       "    }\n",
       "</style>\n",
       "<table border=\"1\" class=\"dataframe\">\n",
       "  <thead>\n",
       "    <tr style=\"text-align: right;\">\n",
       "      <th></th>\n",
       "      <th>PUlocationID</th>\n",
       "      <th>DOlocationID</th>\n",
       "      <th>time_minutes</th>\n",
       "    </tr>\n",
       "  </thead>\n",
       "  <tbody>\n",
       "    <tr>\n",
       "      <th>0</th>\n",
       "      <td>-1.0</td>\n",
       "      <td>-1.0</td>\n",
       "      <td>17.000000</td>\n",
       "    </tr>\n",
       "    <tr>\n",
       "      <th>1</th>\n",
       "      <td>-1.0</td>\n",
       "      <td>-1.0</td>\n",
       "      <td>17.000000</td>\n",
       "    </tr>\n",
       "    <tr>\n",
       "      <th>3</th>\n",
       "      <td>-1.0</td>\n",
       "      <td>72.0</td>\n",
       "      <td>8.283333</td>\n",
       "    </tr>\n",
       "    <tr>\n",
       "      <th>4</th>\n",
       "      <td>-1.0</td>\n",
       "      <td>61.0</td>\n",
       "      <td>15.216667</td>\n",
       "    </tr>\n",
       "    <tr>\n",
       "      <th>5</th>\n",
       "      <td>-1.0</td>\n",
       "      <td>71.0</td>\n",
       "      <td>9.050000</td>\n",
       "    </tr>\n",
       "    <tr>\n",
       "      <th>...</th>\n",
       "      <td>...</td>\n",
       "      <td>...</td>\n",
       "      <td>...</td>\n",
       "    </tr>\n",
       "    <tr>\n",
       "      <th>1154107</th>\n",
       "      <td>7.0</td>\n",
       "      <td>7.0</td>\n",
       "      <td>8.750000</td>\n",
       "    </tr>\n",
       "    <tr>\n",
       "      <th>1154108</th>\n",
       "      <td>44.0</td>\n",
       "      <td>91.0</td>\n",
       "      <td>57.600000</td>\n",
       "    </tr>\n",
       "    <tr>\n",
       "      <th>1154109</th>\n",
       "      <td>171.0</td>\n",
       "      <td>171.0</td>\n",
       "      <td>16.200000</td>\n",
       "    </tr>\n",
       "    <tr>\n",
       "      <th>1154110</th>\n",
       "      <td>15.0</td>\n",
       "      <td>15.0</td>\n",
       "      <td>19.433333</td>\n",
       "    </tr>\n",
       "    <tr>\n",
       "      <th>1154111</th>\n",
       "      <td>-1.0</td>\n",
       "      <td>-1.0</td>\n",
       "      <td>36.000000</td>\n",
       "    </tr>\n",
       "  </tbody>\n",
       "</table>\n",
       "<p>1109826 rows × 3 columns</p>\n",
       "</div>"
      ],
      "text/plain": [
       "        PUlocationID DOlocationID  time_minutes\n",
       "0               -1.0         -1.0     17.000000\n",
       "1               -1.0         -1.0     17.000000\n",
       "3               -1.0         72.0      8.283333\n",
       "4               -1.0         61.0     15.216667\n",
       "5               -1.0         71.0      9.050000\n",
       "...              ...          ...           ...\n",
       "1154107          7.0          7.0      8.750000\n",
       "1154108         44.0         91.0     57.600000\n",
       "1154109        171.0        171.0     16.200000\n",
       "1154110         15.0         15.0     19.433333\n",
       "1154111         -1.0         -1.0     36.000000\n",
       "\n",
       "[1109826 rows x 3 columns]"
      ]
     },
     "execution_count": 56,
     "metadata": {},
     "output_type": "execute_result"
    }
   ],
   "source": [
    "data_jan_used[categorical] = data_jan_used[categorical].astype('str')\n",
    "data_jan_used"
   ]
  },
  {
   "cell_type": "code",
   "execution_count": 57,
   "id": "4e435bd2",
   "metadata": {},
   "outputs": [],
   "source": [
    "train_dict = data_jan_used[categorical].to_dict(orient='records')"
   ]
  },
  {
   "cell_type": "code",
   "execution_count": 58,
   "id": "c8d80c11",
   "metadata": {},
   "outputs": [],
   "source": [
    "dv = DictVectorizer()\n",
    "X_train = dv.fit_transform(train_dict)"
   ]
  },
  {
   "cell_type": "code",
   "execution_count": 59,
   "id": "71cc0ae5-1f23-4e98-aedd-e3a2254cd2d0",
   "metadata": {},
   "outputs": [
    {
     "data": {
      "text/plain": [
       "525"
      ]
     },
     "execution_count": 59,
     "metadata": {},
     "output_type": "execute_result"
    }
   ],
   "source": [
    "len(dv.get_feature_names_out())"
   ]
  },
  {
   "cell_type": "markdown",
   "id": "a1507165-9379-4394-8469-5a590492692a",
   "metadata": {},
   "source": [
    "Q4: 525"
   ]
  },
  {
   "cell_type": "code",
   "execution_count": 60,
   "id": "dcba401f",
   "metadata": {},
   "outputs": [],
   "source": [
    "y_train = data_jan_used.time_minutes"
   ]
  },
  {
   "cell_type": "code",
   "execution_count": 61,
   "id": "5c3bbfa4",
   "metadata": {},
   "outputs": [
    {
     "data": {
      "text/plain": [
       "LinearRegression()"
      ]
     },
     "execution_count": 61,
     "metadata": {},
     "output_type": "execute_result"
    }
   ],
   "source": [
    "lr = LinearRegression()\n",
    "lr.fit(X_train, y_train)"
   ]
  },
  {
   "cell_type": "code",
   "execution_count": 62,
   "id": "cf2fb1f5",
   "metadata": {},
   "outputs": [
    {
     "name": "stdout",
     "output_type": "stream",
     "text": [
      "0.16927348635058725\n"
     ]
    },
    {
     "data": {
      "text/plain": [
       "10.528519107212292"
      ]
     },
     "execution_count": 62,
     "metadata": {},
     "output_type": "execute_result"
    }
   ],
   "source": [
    "print(lr.score(X_train, y_train))\n",
    "\n",
    "y_pred = lr.predict(X_train)\n",
    "\n",
    "np.sqrt(mean_squared_error(y_train, y_pred))"
   ]
  },
  {
   "cell_type": "markdown",
   "id": "87195cab-2433-486e-b513-34d278f60193",
   "metadata": {},
   "source": [
    "Q5:10.52"
   ]
  },
  {
   "cell_type": "code",
   "execution_count": 63,
   "id": "c275d9ad",
   "metadata": {},
   "outputs": [],
   "source": [
    "#categorical = ['PULocationID','DOLocationID']\n",
    "\n",
    "data_feb_used = data_feb.copy()\n",
    "data_feb_used['time'] = data_feb_used.dropOff_datetime - data_feb_used.pickup_datetime\n",
    "data_feb_used['time_minutes'] = data_feb_used.time.dt.total_seconds() / 60\n",
    "\n",
    "data_feb_used.drop(data_feb_used.columns.difference(['time_minutes','PUlocationID','DOlocationID']), axis=1, inplace=True)\n",
    "\n",
    "data_feb_used = data_feb_used.loc[data_feb_used.time_minutes >= 1].loc[data_feb_used.time_minutes <= 60]\n",
    "\n",
    "data_feb_used.fillna(-1, inplace=True)\n",
    "data_feb_used[categorical] = data_feb_used[categorical].astype('str')\n",
    "#data_feb_used['PU_DO'] = data_feb_used.PULocationID + data_feb_used.DOLocationID\n",
    "\n",
    "#categorical = ['PU_DO']\n",
    "test_dict = data_feb_used[categorical].to_dict(orient='records')\n",
    "\n",
    "X_test = dv.transform(test_dict)\n",
    "\n",
    "y_test = data_feb_used.time_minutes"
   ]
  },
  {
   "cell_type": "code",
   "execution_count": 66,
   "id": "b8f5cfd9",
   "metadata": {},
   "outputs": [
    {
     "data": {
      "text/plain": [
       "11.014283211122269"
      ]
     },
     "execution_count": 66,
     "metadata": {},
     "output_type": "execute_result"
    }
   ],
   "source": [
    "y_pred = lr.predict(X_test)\n",
    "\n",
    "np.sqrt(mean_squared_error(y_test, y_pred))"
   ]
  },
  {
   "cell_type": "markdown",
   "id": "16f9dcb0-6aad-40b9-b649-23798ed58a7a",
   "metadata": {},
   "source": [
    "Q6:12.85 (Closest)"
   ]
  }
 ],
 "metadata": {
  "kernelspec": {
   "display_name": "Python 3 (ipykernel)",
   "language": "python",
   "name": "python3"
  },
  "language_info": {
   "codemirror_mode": {
    "name": "ipython",
    "version": 3
   },
   "file_extension": ".py",
   "mimetype": "text/x-python",
   "name": "python",
   "nbconvert_exporter": "python",
   "pygments_lexer": "ipython3",
   "version": "3.7.12"
  }
 },
 "nbformat": 4,
 "nbformat_minor": 5
}
