{
 "cells": [
  {
   "cell_type": "markdown",
   "id": "b48758cd",
   "metadata": {},
   "source": [
    "Q1: 1.26.0"
   ]
  },
  {
   "cell_type": "markdown",
   "id": "bf8c4d5b-52cf-4012-9112-3e6237f274ac",
   "metadata": {},
   "source": [
    "Q2: 4"
   ]
  },
  {
   "cell_type": "markdown",
   "id": "454ae4a8-b470-43bf-b7d4-fa5d450ec855",
   "metadata": {},
   "source": [
    "Q3: 17"
   ]
  },
  {
   "cell_type": "markdown",
   "id": "3572058f-e4c4-4d23-aee8-a393a03e2c3b",
   "metadata": {},
   "source": [
    "Q4: default-artifact-root"
   ]
  },
  {
   "cell_type": "markdown",
   "id": "57aa47f3-c7a5-4d42-ba0a-6155b845537e",
   "metadata": {},
   "source": [
    "Q5: 6.628"
   ]
  },
  {
   "cell_type": "markdown",
   "id": "a44651f0-0664-4155-bbda-a763cdf2cfe3",
   "metadata": {},
   "source": [
    "Q6: 6.55 (6.48 actual score)"
   ]
  }
 ],
 "metadata": {
  "kernelspec": {
   "display_name": "Python 3 (ipykernel)",
   "language": "python",
   "name": "python3"
  },
  "language_info": {
   "codemirror_mode": {
    "name": "ipython",
    "version": 3
   },
   "file_extension": ".py",
   "mimetype": "text/x-python",
   "name": "python",
   "nbconvert_exporter": "python",
   "pygments_lexer": "ipython3",
   "version": "3.10.4"
  }
 },
 "nbformat": 4,
 "nbformat_minor": 5
}
